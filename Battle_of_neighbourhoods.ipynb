{
 "cells": [
  {
   "cell_type": "markdown",
   "metadata": {},
   "source": [
    "# <center> Capstone Project - The Battle of Neighbourhoods </center>"
   ]
  },
  {
   "cell_type": "markdown",
   "metadata": {},
   "source": [
    "# <center>Gift Shop in Dubai</center>\n",
    "#### <center> _By Amani_ </center>"
   ]
  },
  {
   "cell_type": "markdown",
   "metadata": {},
   "source": [
    "## 1. Introduction and Discussion of the Business Objective"
   ]
  },
  {
   "cell_type": "markdown",
   "metadata": {},
   "source": [
    "There must be few who must have not heard about ‘Dubai’. To many (and rightly so), Dubai means lots of shopping at the Dubai shopping festival, tons of adventure in the desert safaris, enjoying charismatic panoramic views from the deck of the iconic Burj Khalifa.\n",
    "\n",
    "Dubai certainly has something for everyone. But behind all this excitement and adventure lies the backbone of it all the strong economy of this city. Dubai has a reputation for being a visionary city; a first-mover that shapes its own destiny.  The spirit of possible and wise foresight of its leaders have been hallmarks of Dubai’s economic progress over the past decades. And what once was a tranquil town has rapidly grown into a premier leisure and business tourism destination, becoming the record-breaking and innovative city it is today -  the crossroads of opportunity. As I'm living in one of the world's fastest growing economies and one of the world's lowest crime rates city push me to take the decision to build my capstone project on it.\n",
    "\n"
   ]
  },
  {
   "cell_type": "markdown",
   "metadata": {},
   "source": [
    "This project explores flower shops and related opportunities in dubai, United Arab Emirates. It will help make data-driven decisions about the new locations that are best suited to their existing dubai flower shops, and this will be a big part of the decision-making process. "
   ]
  },
  {
   "cell_type": "markdown",
   "metadata": {},
   "source": [
    "## 2. Data Preparation and How It Solves The Problem"
   ]
  },
  {
   "cell_type": "markdown",
   "metadata": {},
   "source": [
    "In this project the data regarding the cities in Dubai needs to be researched,as I retreive it from https://www.citypopulation.de/en/uae/dubai/admin/, data wrangling and cleaning will have to be performed.\n",
    "\n",
    "The cleansed data will then be used alongside Foursquare data, which is readily available. Foursquare location data will be leveraged to explore or compare cities around Dubai, identifying the high traffic areas where consumers go for shopping, dining and entertainment - the areas where the clients are most interested in opening new stores."
   ]
  },
  {
   "cell_type": "markdown",
   "metadata": {},
   "source": [
    "The Data Science Workflow includes the following:\n",
    "\n",
    "<li>Cities data for Dubai.</li>\n",
    "<li>Research and find suitable sources for the cities data for Dubai.</li>\n",
    "<li>Clean the data and convert to a useable form as a dataframe.</li>\n",
    "<li>Foursquare location data will be leveraged to explore or compare cities around Dubai.</li>\n",
    "<li>Data manipulation and analysis to derive subsets of the initial data.</li>\n",
    "<li>Identifying the high traffic areas using data visualisation and tatistical nalysis.</li>\n",
    "<li>Analysis and plotting visualizations.</li>\n",
    "<li>Data visualization using various mapping libraries.</li>\n",
    "<li>Recomendations and results based on the data analysis.</li>\n",
    "<li>Discussion of any limitations and how the results can be used, and any conclusions that can be drawn.</li>\n",
    "\n"
   ]
  },
  {
   "cell_type": "code",
   "execution_count": null,
   "metadata": {},
   "outputs": [],
   "source": []
  }
 ],
 "metadata": {
  "kernelspec": {
   "display_name": "Python",
   "language": "python",
   "name": "conda-env-python-py"
  },
  "language_info": {
   "codemirror_mode": {
    "name": "ipython",
    "version": 3
   },
   "file_extension": ".py",
   "mimetype": "text/x-python",
   "name": "python",
   "nbconvert_exporter": "python",
   "pygments_lexer": "ipython3",
   "version": "3.6.7"
  }
 },
 "nbformat": 4,
 "nbformat_minor": 4
}
